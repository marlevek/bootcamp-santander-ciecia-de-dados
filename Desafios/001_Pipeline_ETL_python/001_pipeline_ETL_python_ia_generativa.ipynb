{
 "cells": [
  {
   "cell_type": "markdown",
   "metadata": {},
   "source": [
    "Vamos criar um processo ETL (Extract, Transform, Load) em Python a partir de um arquivo CSV e depois atualizar uma mensagem de marketing  para um banco que quer oferecer conta bancária para universitários.<br>\n",
    "Vamos criar um arquivo csv chamado \"dados_clientes_universitarios.csv\" com as seguintes colunas: nome, email, idade e vamos criar umas mensagens personalizadas e realizar o processo ETL, armazenando as mensagens em uma nova coluna."
   ]
  },
  {
   "cell_type": "code",
   "execution_count": 1,
   "metadata": {},
   "outputs": [],
   "source": [
    "# Importando a biblioteca que será usada\n",
    "import pandas as pd"
   ]
  },
  {
   "cell_type": "code",
   "execution_count": 2,
   "metadata": {},
   "outputs": [
    {
     "name": "stdout",
     "output_type": "stream",
     "text": [
      "   ID             Nome                        Email  idade\n",
      "0   1      João da Lua          joaodalua@gmail.com     19\n",
      "1   2  Eustáquio Pudim  eustaquio_pudim@hotmail.com     22\n",
      "2   3     Ana de Armas       anadearmas@hotmail.com     20\n",
      "3   4     Wilma Jujuba           w.jujuba@gmail.com     21\n"
     ]
    }
   ],
   "source": [
    "# Criando um arquivo csv a partir de um dicionário\n",
    "dados_dict = {\n",
    "    'ID': [1, 2, 3, 4],\n",
    "    'Nome': ['João da Lua', 'Eustáquio Pudim', 'Ana de Armas', 'Wilma Jujuba'],\n",
    "    'Email': ['joaodalua@gmail.com', 'eustaquio_pudim@hotmail.com', 'anadearmas@hotmail.com', 'w.jujuba@gmail.com'],\n",
    "    'idade': [19, 22, 20, 21],\n",
    "}\n",
    "\n",
    "# Cria o DataFrame\n",
    "dados = pd.DataFrame(dados_dict)\n",
    "\n",
    "# Escreve para arquivo csv\n",
    "dados.to_csv(\"dados_clientes_universitarios.csv\")\n",
    "\n",
    "# Mostra os dados\n",
    "print(dados)\n"
   ]
  },
  {
   "cell_type": "markdown",
   "metadata": {},
   "source": [
    "### Extract\n",
    "Extraindo a lista de IDs dos usuários do arquivo csv."
   ]
  },
  {
   "cell_type": "code",
   "execution_count": 3,
   "metadata": {},
   "outputs": [
    {
     "name": "stdout",
     "output_type": "stream",
     "text": [
      "[1, 2, 3, 4]\n"
     ]
    }
   ],
   "source": [
    "user_ids = dados['ID'].tolist()\n",
    "print(user_ids)"
   ]
  },
  {
   "cell_type": "markdown",
   "metadata": {},
   "source": [
    "### Transform\n",
    "Vamos gerar uma mensagem de marketing personalizada para os usuários"
   ]
  },
  {
   "cell_type": "code",
   "execution_count": 4,
   "metadata": {},
   "outputs": [],
   "source": [
    "def criar_mensagens(dados):\n",
    "    mensagens = []\n",
    "    \n",
    "    for index, row in dados.iterrows():\n",
    "        mensagem = f\"{row['Nome']}, temos uma ótima notícia para você! Nosso banco está oferecendo vantgens exclusivas para contas universitárias. Aproveite essa oportunidade e abra sua conta hoje mesmo!.\"\n",
    "        \n",
    "        mensagens.append(mensagem)\n",
    "        \n",
    "    dados['Mensagem'] = mensagens\n",
    "    return dados"
   ]
  },
  {
   "cell_type": "markdown",
   "metadata": {},
   "source": [
    "### Load\n",
    "Atualiza o DataFrame com a coluna 'Mensagem' com a mensagem para cada usuário"
   ]
  },
  {
   "cell_type": "code",
   "execution_count": 5,
   "metadata": {},
   "outputs": [
    {
     "name": "stdout",
     "output_type": "stream",
     "text": [
      "   ID             Nome                        Email  idade  \\\n",
      "0   1      João da Lua          joaodalua@gmail.com     19   \n",
      "1   2  Eustáquio Pudim  eustaquio_pudim@hotmail.com     22   \n",
      "2   3     Ana de Armas       anadearmas@hotmail.com     20   \n",
      "3   4     Wilma Jujuba           w.jujuba@gmail.com     21   \n",
      "\n",
      "                                            Mensagem  \n",
      "0  João da Lua, temos uma ótima notícia para você...  \n",
      "1  Eustáquio Pudim, temos uma ótima notícia para ...  \n",
      "2  Ana de Armas, temos uma ótima notícia para voc...  \n",
      "3  Wilma Jujuba, temos uma ótima notícia para voc...  \n"
     ]
    }
   ],
   "source": [
    "dados = criar_mensagens(dados)\n",
    "\n",
    "print(dados)"
   ]
  }
 ],
 "metadata": {
  "kernelspec": {
   "display_name": "Python 3",
   "language": "python",
   "name": "python3"
  },
  "language_info": {
   "codemirror_mode": {
    "name": "ipython",
    "version": 3
   },
   "file_extension": ".py",
   "mimetype": "text/x-python",
   "name": "python",
   "nbconvert_exporter": "python",
   "pygments_lexer": "ipython3",
   "version": "3.10.1"
  },
  "orig_nbformat": 4
 },
 "nbformat": 4,
 "nbformat_minor": 2
}
